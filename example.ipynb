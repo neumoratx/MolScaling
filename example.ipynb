{
 "cells": [
  {
   "cell_type": "markdown",
   "metadata": {},
   "source": [
    "## Example of 2D Graph Modality "
   ]
  },
  {
   "cell_type": "markdown",
   "metadata": {},
   "source": [
    "Here we provide the example code for exploring the neural scaling law of 2D Graph Modality with GIN backbone. You can easily compare this example to other modality (Fingerprint, SMILES string and 3D graph) since we use similar code framework.  "
   ]
  },
  {
   "cell_type": "code",
   "execution_count": 4,
   "metadata": {},
   "outputs": [],
   "source": [
    "import numpy as np\n",
    "import pandas as pd\n",
    "from sklearn.metrics import roc_auc_score, average_precision_score\n",
    "from sklearn.metrics import mean_absolute_error, mean_squared_error\n",
    "\n",
    "import random\n",
    "import torch\n",
    "import torch.nn as nn\n",
    "import torch.optim as optim\n",
    "from torch_geometric.nn import global_mean_pool\n",
    "from torch_geometric.loader import DataLoader\n",
    "from splitter import random_split\n",
    "\n",
    "\n",
    "from datasets.molnet import MoleculeDataset\n",
    "from model.gnn import GNN\n",
    "from model.mlp import MLP"
   ]
  },
  {
   "cell_type": "code",
   "execution_count": 5,
   "metadata": {},
   "outputs": [
    {
     "data": {
      "text/plain": [
       "'/home/ubuntu/adme/MolScaling'"
      ]
     },
     "execution_count": 5,
     "metadata": {},
     "output_type": "execute_result"
    }
   ],
   "source": [
    "pwd"
   ]
  },
  {
   "cell_type": "code",
   "execution_count": null,
   "metadata": {},
   "outputs": [],
   "source": []
  },
  {
   "cell_type": "code",
   "execution_count": 6,
   "metadata": {},
   "outputs": [],
   "source": [
    "import warnings\n",
    "\n",
    "# Suppress specific UserWarning from torch_geometric\n",
    "warnings.filterwarnings(\n",
    "    action='ignore', \n",
    "    category=UserWarning, \n",
    "    message=\"It is not recommended to directly access the internal storage format `data`\"\n",
    ")"
   ]
  },
  {
   "cell_type": "markdown",
   "metadata": {},
   "source": [
    "### 1. Define the basic functions we need to use."
   ]
  },
  {
   "cell_type": "code",
   "execution_count": 7,
   "metadata": {},
   "outputs": [
    {
     "name": "stdout",
     "output_type": "stream",
     "text": [
      "[ Using Seed :  0  ]\n"
     ]
    }
   ],
   "source": [
    "def seed_all(seed):\n",
    "    if not seed:\n",
    "        seed = 0\n",
    "    print(\"[ Using Seed : \", seed, \" ]\")\n",
    "    torch.manual_seed(seed)\n",
    "    torch.cuda.manual_seed_all(seed)\n",
    "    torch.cuda.manual_seed(seed)\n",
    "    np.random.seed(seed)\n",
    "    return\n",
    "\n",
    "def get_num_task(dataset):\n",
    "    # Get output dimensions of different tasks\n",
    "    if dataset == 'tox21':\n",
    "        return 12\n",
    "    elif dataset in ['hiv', 'bace', 'bbbp', 'mdck']:\n",
    "        return 1\n",
    "    elif dataset == 'muv':\n",
    "        return 17\n",
    "    elif dataset == 'toxcast':\n",
    "        return 617\n",
    "    elif dataset == 'sider':\n",
    "        return 27\n",
    "    elif dataset == 'clintox':\n",
    "        return 2\n",
    "    elif dataset == 'pcba':\n",
    "        return 92\n",
    "    raise ValueError('Invalid dataset name.')\n",
    "\n",
    "seed = 0\n",
    "seed_all(seed)\n",
    "\n",
    "# device = torch.device('cuda') if torch.cuda.is_available() else torch.device('cpu')\n",
    "device = torch.device('cuda') \n",
    "\n",
    "if torch.cuda.is_available():\n",
    "    torch.cuda.manual_seed_all(seed)\n"
   ]
  },
  {
   "cell_type": "code",
   "execution_count": 8,
   "metadata": {},
   "outputs": [
    {
     "data": {
      "text/plain": [
       "True"
      ]
     },
     "execution_count": 8,
     "metadata": {},
     "output_type": "execute_result"
    }
   ],
   "source": [
    "torch.cuda.is_available()"
   ]
  },
  {
   "cell_type": "markdown",
   "metadata": {},
   "source": [
    "### 2. Load dataset and partition it with random split. You can also easily replace it with other split methods (scaffold and imbalanced)."
   ]
  },
  {
   "cell_type": "code",
   "execution_count": 9,
   "metadata": {},
   "outputs": [
    {
     "name": "stdout",
     "output_type": "stream",
     "text": [
      "Dataset: mdck\n",
      "Data: Data(x=[61735, 2], edge_index=[2, 134804], edge_attr=[134804, 2], id=[2642], fingerprint=[2642, 1024], y=[2642])\n",
      "MoleculeDataset(2642)\n",
      "randomly split\n",
      "Data(x=[18, 2], edge_index=[2, 40], fingerprint=[1, 1024], edge_attr=[40, 2], id=[1], y=[1])\n",
      "Training data length: 2113\n"
     ]
    }
   ],
   "source": [
    "dataset_name = 'mdck'\n",
    "split = 'random'\n",
    "num_tasks = get_num_task(dataset_name)\n",
    "# Set your dataset directory\n",
    "dataset_folder = '/home/ubuntu/adme/MolScaling/datasets/molecule_net/'\n",
    "dataset = MoleculeDataset(dataset_folder + dataset_name, dataset=dataset_name)\n",
    "\n",
    "print(dataset)\n",
    "# eval_metric = roc_auc_score\n",
    "eval_metric = mean_absolute_error\n",
    "eval_metric = average_precision_score\n",
    "\n",
    "if split == 'random':\n",
    "    smiles_list = pd.read_csv(dataset_folder + dataset_name + '/processed/smiles.csv',\n",
    "                                header=None)[0].tolist()\n",
    "    train_dataset, valid_dataset, test_dataset, (train_smiles, valid_smiles, test_smiles),_ = random_split(\n",
    "        dataset, null_value=0, frac_train=0.8, frac_valid=0.1,\n",
    "        frac_test=0.1, seed=42, smiles_list=smiles_list)\n",
    "    print('randomly split')\n",
    "    \n",
    "else:\n",
    "    raise ValueError('Invalid split option.')\n",
    "print(train_dataset[0])\n",
    "print('Training data length: {}'.format(len(train_smiles)))     "
   ]
  },
  {
   "cell_type": "markdown",
   "metadata": {},
   "source": [
    "### 3. Randomly select partial training set (1%, 5%, 10%, ..., 100%) for model training. "
   ]
  },
  {
   "cell_type": "code",
   "execution_count": 8,
   "metadata": {},
   "outputs": [],
   "source": [
    "finetune_ratio = 0.01\n",
    "finetune_ratio = 1\n",
    "batch_size = 256\n",
    "finetune_num = int(finetune_ratio * len(train_smiles))\n",
    "num_mols = len(train_dataset)\n",
    "random.seed(seed)\n",
    "all_idx = list(range(num_mols))\n",
    "random.shuffle(all_idx)\n",
    "ids = all_idx[:int(finetune_ratio * num_mols)]\n",
    "train_dataset = train_dataset[ids]\n",
    "\n",
    "train_loader = DataLoader(train_dataset, batch_size=batch_size,\n",
    "                            shuffle=True, num_workers=8)\n",
    "val_loader = DataLoader(valid_dataset, batch_size=batch_size,\n",
    "                        shuffle=False, num_workers=8)\n",
    "test_loader = DataLoader(test_dataset, batch_size=batch_size,\n",
    "                            shuffle=False, num_workers=8)"
   ]
  },
  {
   "cell_type": "code",
   "execution_count": 9,
   "metadata": {},
   "outputs": [],
   "source": [
    "def compute_mean_mad(values):\n",
    "    meann = torch.mean(values)\n",
    "    mad = torch.std(values)\n",
    "    return meann, mad\n",
    "\n",
    "meann, mad = 0, 1"
   ]
  },
  {
   "cell_type": "markdown",
   "metadata": {},
   "source": [
    "### 4. Setup backbone model and optimizer"
   ]
  },
  {
   "cell_type": "code",
   "execution_count": 10,
   "metadata": {},
   "outputs": [
    {
     "name": "stdout",
     "output_type": "stream",
     "text": [
      "GNN(\n",
      "  (x_embedding1): Embedding(120, 300)\n",
      "  (x_embedding2): Embedding(3, 300)\n",
      "  (gnns): ModuleList(\n",
      "    (0-4): 5 x GINConv()\n",
      "  )\n",
      "  (batch_norms): ModuleList(\n",
      "    (0-4): 5 x BatchNorm1d(300, eps=1e-05, momentum=0.1, affine=True, track_running_stats=True)\n",
      "  )\n",
      ")\n"
     ]
    }
   ],
   "source": [
    "num_layer = 5\n",
    "emb_dim = 300\n",
    "dropout_ratio = 0.5\n",
    "lr = 1e-3\n",
    "\n",
    "model_param_group = []\n",
    "model = GNN(num_layer=num_layer, emb_dim=emb_dim, drop_ratio=dropout_ratio).to(device)\n",
    "output_layer = MLP(in_channels=emb_dim, hidden_channels=emb_dim, \n",
    "                    out_channels=num_tasks, num_layers=1, dropout=0).to(device)\n",
    "\n",
    "model_param_group.append({'params': output_layer.parameters(),'lr': lr})\n",
    "model_param_group.append({'params': model.parameters(), 'lr': lr})\n",
    "\n",
    "print(model)                \n",
    "optimizer = optim.Adam(model_param_group, lr=lr, weight_decay=0)"
   ]
  },
  {
   "cell_type": "markdown",
   "metadata": {},
   "source": [
    "### 5. Train and evaluate the model."
   ]
  },
  {
   "cell_type": "code",
   "execution_count": 11,
   "metadata": {},
   "outputs": [],
   "source": [
    "reg_criterion = torch.nn.MSELoss()\n",
    "train_result_list, val_result_list, test_result_list = [], [], []\n",
    "metric_list = ['RMSE', 'MAE', 'pearson_R']\n",
    "best_val_mae, best_val_idx = 1e10, 0\n",
    "\n",
    "def train_general(model, device, loader, optimizer):\n",
    "    model.train()\n",
    "    output_layer.train()\n",
    "    total_loss = 0\n",
    "\n",
    "    for step, batch in enumerate(loader):\n",
    "        batch = batch.to(device)\n",
    "        h = global_mean_pool(model(batch), batch.batch)\n",
    "        pred = output_layer(h)\n",
    "        \n",
    "        y = batch.y.view(pred.shape).float()\n",
    "        y = ((y-meann)/mad)\n",
    "        loss = reg_criterion(pred, y)\n",
    "        \n",
    "        optimizer.zero_grad()\n",
    "        loss.backward()\n",
    "        optimizer.step()\n",
    "        total_loss += loss.detach().item()\n",
    "\n",
    "    return total_loss / len(loader)\n",
    "\n",
    "\n",
    "def eval_general(model, device, loader):\n",
    "    model.eval()\n",
    "    y_true, y_pred = [], []\n",
    "\n",
    "    for step, batch in enumerate(loader):\n",
    "        batch = batch.to(device)\n",
    "        with torch.no_grad():\n",
    "            h = global_mean_pool(model(batch), batch.batch)\n",
    "            pred = output_layer(h)\n",
    "    \n",
    "        true = batch.y.view(pred.shape).float()\n",
    "        y_true.append(true)\n",
    "        y_pred.append(pred)\n",
    "\n",
    "\n",
    "    y_true = torch.cat(y_true, dim=0).cpu().numpy()\n",
    "    y_pred = (torch.cat(y_pred, dim=0)*mad + meann).cpu().numpy()\n",
    "\n",
    "    rmse = mean_squared_error(y_true, y_pred, squared=False)\n",
    "    mae = mean_absolute_error(y_true, y_pred)\n",
    "    pearson_r = np.corrcoef(y_true.T, y_pred.T)[1,0]\n",
    "    return {'RMSE': rmse, 'MAE': mae, 'pearson_R': pearson_r}, y_true, y_pred"
   ]
  },
  {
   "cell_type": "code",
   "execution_count": null,
   "metadata": {},
   "outputs": [],
   "source": [
    "criterion = nn.BCEWithLogitsLoss(reduction='none')\n",
    "train_roc_list, val_roc_list, test_roc_list = [], [], []\n",
    "train_loss_list, val_loss_list, test_loss_list = [], [], []\n",
    "roc_lists = []\n",
    "best_val_roc, best_val_idx = -1, 0\n",
    "optimal_loss = 1e10\n",
    "\n",
    "def train_general(model, device, loader, optimizer):\n",
    "    model.train()\n",
    "    total_loss = 0\n",
    "\n",
    "    for step, batch in enumerate(loader):\n",
    "        batch = batch.to(device)\n",
    "        h = global_mean_pool(model(batch), batch.batch)\n",
    "        pred = output_layer(h)\n",
    "        \n",
    "        y = batch.y.view(pred.shape).to(torch.float64)\n",
    "        is_valid = y ** 2 > 0\n",
    "        loss_mat = criterion(pred.double(), (y + 1) / 2)\n",
    "        loss_mat = torch.where(\n",
    "            is_valid, loss_mat,\n",
    "            torch.zeros(loss_mat.shape).to(device).to(loss_mat.dtype))\n",
    "        \n",
    "        optimizer.zero_grad()\n",
    "        loss = torch.sum(loss_mat) / torch.sum(is_valid)\n",
    "        loss.backward()\n",
    "        optimizer.step()\n",
    "        total_loss += loss.detach().item()\n",
    "\n",
    "    global optimal_loss \n",
    "    temp_loss = total_loss / len(loader)\n",
    "    if temp_loss < optimal_loss:\n",
    "        optimal_loss = temp_loss\n",
    "\n",
    "    return total_loss / len(loader)\n",
    "\n",
    "\n",
    "def eval_general(model, device, loader):\n",
    "    model.eval()\n",
    "    y_true, y_scores = [], []\n",
    "    total_loss = 0\n",
    "\n",
    "    for step, batch in enumerate(loader):\n",
    "        batch = batch.to(device)\n",
    "        with torch.no_grad():\n",
    "            h = global_mean_pool(model(batch), batch.batch)\n",
    "            pred = output_layer(h)\n",
    "    \n",
    "        true = batch.y.view(pred.shape)\n",
    "\n",
    "        y_true.append(true)\n",
    "        y_scores.append(pred)\n",
    "\n",
    "\n",
    "    y_true = torch.cat(y_true, dim=0).cpu().numpy()\n",
    "    y_scores = torch.cat(y_scores, dim=0).cpu().numpy()\n",
    "    # roc_list = []\n",
    "    # for i in range(y_true.shape[1]):\n",
    "    #     # AUC is only defined when there is at least one positive data.\n",
    "    #     if np.sum(y_true[:, i] == 1) > 0 and np.sum(y_true[:, i] == -1) > 0:\n",
    "    #         is_valid = y_true[:, i] ** 2 > 0\n",
    "    #         roc_list.append(eval_metric((y_true[is_valid, i] + 1) / 2, y_scores[is_valid, i]))\n",
    "    #     else:\n",
    "    #         print('{} is invalid'.format(i))\n",
    "\n",
    "    # if len(roc_list) < y_true.shape[1]:\n",
    "    #     print(len(roc_list))\n",
    "    #     print('Some target is missing!')\n",
    "    #     print('Missing ratio: %f' %(1 - float(len(roc_list)) / y_true.shape[1]))\n",
    "\n",
    "    # return sum(roc_list) / len(roc_list), total_loss / len(loader), roc_list\n",
    "    y_pred = y_scores\n",
    "    rmse = mean_squared_error(y_true, y_pred, squared=False)\n",
    "    mae = mean_absolute_error(y_true, y_pred)\n",
    "    return {'RMSE': rmse, 'MAE': mae}, y_true, y_pred"
   ]
  },
  {
   "cell_type": "code",
   "execution_count": 12,
   "metadata": {},
   "outputs": [],
   "source": [
    "import mlflow\n",
    "mlflow.set_tracking_uri(\"http://localhost:5000\")"
   ]
  },
  {
   "cell_type": "code",
   "execution_count": 13,
   "metadata": {},
   "outputs": [
    {
     "name": "stderr",
     "output_type": "stream",
     "text": [
      "2024/01/18 21:27:47 WARNING mlflow.utils.autologging_utils: You are using an unsupported version of pytorch. If you encounter errors during autologging, try upgrading / downgrading pytorch to a supported version, or try upgrading MLflow.\n"
     ]
    },
    {
     "name": "stdout",
     "output_type": "stream",
     "text": [
      "Epoch: 1\n",
      "Loss: 1.3690203693177965\n",
      "RMSE train: 0.721391\tval: 0.694996\ttest: 0.655226\n",
      "MAE train: 0.565329\tval: 0.524803\ttest: 0.503614\n",
      "pearson_R train: 0.313993\tval: 0.324319\ttest: 0.276049\n",
      "Epoch: 2\n",
      "Loss: 0.9281807144482931\n",
      "RMSE train: 0.795806\tval: 0.811660\ttest: 0.771077\n",
      "MAE train: 0.711437\tval: 0.736305\ttest: 0.689446\n",
      "pearson_R train: 0.254064\tval: 0.208458\ttest: 0.140838\n",
      "Best (RMSE), RMSE train: 0.721391\tval: 0.694996\ttest: 0.655226\n",
      "Best (RMSE), MAE train: 0.565329\tval: 0.524803\ttest: 0.503614\n",
      "Best (RMSE), pearson_R train: 0.313993\tval: 0.324319\ttest: 0.276049\n"
     ]
    }
   ],
   "source": [
    "meann, mad = compute_mean_mad(train_dataset.data.y)\n",
    "epochs = 2\n",
    "\n",
    "train_func = train_general\n",
    "eval_func = eval_general\n",
    "mlflow.pytorch.autolog()\n",
    "for epoch in range(1, epochs + 1):\n",
    "    loss_acc = train_func(model, device, train_loader, optimizer)\n",
    "    print('Epoch: {}\\nLoss: {}'.format(epoch, loss_acc))\n",
    "\n",
    "    train_result, train_target, train_pred = eval_func(model, device, train_loader)\n",
    "    \n",
    "    val_result, val_target, val_pred = eval_func(model, device, val_loader)\n",
    "    test_result, test_target, test_pred = eval_func(model, device, test_loader)\n",
    "    test_result_list.append(test_result)\n",
    "    \n",
    "    train_result_list.append(train_result)\n",
    "    val_result_list.append(val_result)\n",
    "\n",
    "    for metric in metric_list:\n",
    "        print('{} train: {:.6f}\\tval: {:.6f}\\ttest: {:.6f}'.format(metric, train_result[metric], val_result[metric], test_result[metric]))\n",
    "\n",
    "    if val_result['MAE'] < best_val_mae:\n",
    "        best_val_mae = val_result['MAE']\n",
    "        best_val_idx = epoch - 1\n",
    "        \n",
    "\n",
    "for metric in metric_list:\n",
    "    print('Best (RMSE), {} train: {:.6f}\\tval: {:.6f}\\ttest: {:.6f}'.format(\n",
    "        metric, train_result_list[best_val_idx][metric], val_result_list[best_val_idx][metric], test_result_list[best_val_idx][metric]))"
   ]
  },
  {
   "cell_type": "code",
   "execution_count": 14,
   "metadata": {},
   "outputs": [
    {
     "name": "stdout",
     "output_type": "stream",
     "text": [
      "Epoch: 1\n",
      "Loss: 0.9156161281797621\n",
      "RMSE train: 1.414736\tval: 1.439571\ttest: 1.418459\n",
      "MAE train: 1.255669\tval: 1.295291\ttest: 1.278273\n",
      "pearson_R train: 0.121580\tval: 0.110015\ttest: 0.038115\n",
      "Epoch: 2\n",
      "Loss: 0.9115500979953342\n",
      "RMSE train: 0.669233\tval: 0.668174\ttest: 0.642972\n",
      "MAE train: 0.557523\tval: 0.553019\ttest: 0.521895\n",
      "pearson_R train: 0.273666\tval: 0.219224\ttest: 0.137068\n",
      "Epoch: 3\n",
      "Loss: 0.8545373876889547\n",
      "RMSE train: 0.833296\tval: 0.858067\ttest: 0.846321\n",
      "MAE train: 0.707062\tval: 0.747929\ttest: 0.731109\n",
      "pearson_R train: 0.280076\tval: 0.235612\ttest: 0.146369\n",
      "Epoch: 4\n",
      "Loss: 0.8219975365532769\n",
      "RMSE train: 0.685462\tval: 0.703874\ttest: 0.715600\n",
      "MAE train: 0.576492\tval: 0.594442\ttest: 0.604668\n",
      "pearson_R train: 0.461673\tval: 0.441014\ttest: 0.336547\n",
      "Epoch: 5\n",
      "Loss: 0.8473456104596456\n",
      "RMSE train: 0.669423\tval: 0.672928\ttest: 0.670846\n",
      "MAE train: 0.571906\tval: 0.581973\ttest: 0.565738\n",
      "pearson_R train: 0.414316\tval: 0.397477\ttest: 0.272775\n",
      "Epoch: 6\n",
      "Loss: 0.8359596000777351\n",
      "RMSE train: 1.129316\tval: 1.158800\ttest: 1.152085\n",
      "MAE train: 0.994154\tval: 1.030494\ttest: 1.033299\n",
      "pearson_R train: 0.375778\tval: 0.354099\ttest: 0.295085\n",
      "Epoch: 7\n",
      "Loss: 0.8049036065737406\n",
      "RMSE train: 0.875703\tval: 0.858176\ttest: 0.846439\n",
      "MAE train: 0.696172\tval: 0.666247\ttest: 0.668235\n",
      "pearson_R train: 0.456377\tval: 0.392806\ttest: 0.334308\n",
      "Epoch: 8\n",
      "Loss: 0.8224910365210639\n",
      "RMSE train: 0.653461\tval: 0.644434\ttest: 0.621600\n",
      "MAE train: 0.492774\tval: 0.469189\ttest: 0.463491\n",
      "pearson_R train: 0.466608\tval: 0.414049\ttest: 0.348120\n",
      "Epoch: 9\n",
      "Loss: 0.7876753608385721\n",
      "RMSE train: 0.728816\tval: 0.757578\ttest: 0.765406\n",
      "MAE train: 0.616430\tval: 0.645353\ttest: 0.655072\n",
      "pearson_R train: 0.503950\tval: 0.450663\ttest: 0.361802\n",
      "Epoch: 10\n",
      "Loss: 0.8239738941192627\n",
      "RMSE train: 0.603953\tval: 0.622021\ttest: 0.608133\n",
      "MAE train: 0.496308\tval: 0.506696\ttest: 0.496784\n",
      "pearson_R train: 0.500177\tval: 0.430134\ttest: 0.356123\n",
      "Epoch: 11\n",
      "Loss: 0.8005439440409342\n",
      "RMSE train: 0.955911\tval: 0.984077\ttest: 0.998648\n",
      "MAE train: 0.819136\tval: 0.849078\ttest: 0.866611\n",
      "pearson_R train: 0.493422\tval: 0.451971\ttest: 0.348764\n",
      "Epoch: 12\n",
      "Loss: 0.7910017238722907\n",
      "RMSE train: 0.825316\tval: 0.856715\ttest: 0.831667\n",
      "MAE train: 0.710906\tval: 0.743305\ttest: 0.729304\n",
      "pearson_R train: 0.368210\tval: 0.306756\ttest: 0.229716\n",
      "Epoch: 13\n",
      "Loss: 0.777905093299018\n",
      "RMSE train: 0.640194\tval: 0.684423\ttest: 0.663771\n",
      "MAE train: 0.546376\tval: 0.592467\ttest: 0.561569\n",
      "pearson_R train: 0.531277\tval: 0.428996\ttest: 0.376012\n",
      "Epoch: 14\n",
      "Loss: 0.7672426237000359\n",
      "RMSE train: 0.642904\tval: 0.674917\ttest: 0.666818\n",
      "MAE train: 0.539910\tval: 0.557611\ttest: 0.558088\n",
      "pearson_R train: 0.499642\tval: 0.436950\ttest: 0.364532\n",
      "Epoch: 15\n",
      "Loss: 0.7608579264746772\n",
      "RMSE train: 0.950706\tval: 0.988236\ttest: 0.988216\n",
      "MAE train: 0.797494\tval: 0.837330\ttest: 0.841195\n",
      "pearson_R train: 0.386123\tval: 0.334764\ttest: 0.213114\n",
      "Best (RMSE), RMSE train: 1.129316\tval: 1.158800\ttest: 1.152085\n",
      "Best (RMSE), MAE train: 0.994154\tval: 1.030494\ttest: 1.033299\n",
      "Best (RMSE), pearson_R train: 0.375778\tval: 0.354099\ttest: 0.295085\n"
     ]
    }
   ],
   "source": [
    "meann, mad = compute_mean_mad(train_dataset.data.y)\n",
    "epochs = 15\n",
    "\n",
    "train_func = train_general\n",
    "eval_func = eval_general\n",
    "# Create a new MLflow Experiment\n",
    "mlflow.set_experiment(\"MLflow GNN\")\n",
    "\n",
    "with mlflow.start_run():\n",
    "    for epoch in range(1, epochs + 1):\n",
    "        loss_acc = train_func(model, device, train_loader, optimizer)\n",
    "        print('Epoch: {}\\nLoss: {}'.format(epoch, loss_acc))\n",
    "\n",
    "        train_result, train_target, train_pred = eval_func(model, device, train_loader)\n",
    "        \n",
    "        val_result, val_target, val_pred = eval_func(model, device, val_loader)\n",
    "        test_result, test_target, test_pred = eval_func(model, device, test_loader)\n",
    "        test_result_list.append(test_result)\n",
    "        \n",
    "        train_result_list.append(train_result)\n",
    "        val_result_list.append(val_result)\n",
    "\n",
    "        for metric in metric_list:\n",
    "            print('{} train: {:.6f}\\tval: {:.6f}\\ttest: {:.6f}'.format(metric, train_result[metric], val_result[metric], test_result[metric]))\n",
    "\n",
    "        if val_result['MAE'] < best_val_mae:\n",
    "            best_val_mae = val_result['MAE']\n",
    "            best_val_idx = epoch - 1\n",
    "            \n",
    "        mlflow.log_metric(\"r2_score\", train_result['pearson_R'], step=epoch)\n",
    "\n",
    "for metric in metric_list:\n",
    "    print('Best (RMSE), {} train: {:.6f}\\tval: {:.6f}\\ttest: {:.6f}'.format(\n",
    "        metric, train_result_list[best_val_idx][metric], val_result_list[best_val_idx][metric], test_result_list[best_val_idx][metric]))"
   ]
  },
  {
   "cell_type": "code",
   "execution_count": 21,
   "metadata": {},
   "outputs": [],
   "source": [
    "# Set our tracking server uri for logging\n",
    "mlflow.set_tracking_uri(uri=\"http://127.0.0.1:5000\")\n",
    "\n",
    "# Create a new MLflow Experiment\n",
    "mlflow.set_experiment(\"MLflow GNN\")\n",
    "\n",
    "# Start an MLflow run\n",
    "with mlflow.start_run():\n",
    "    # Log the hyperparameters\n",
    "    # mlflow.log_params(params)\n",
    "\n",
    "    # Log the loss metric\n",
    "    mlflow.log_metric(\"r2_score\", train_result['pearson_R'])\n",
    "\n",
    "    # Set a tag that we can use to remind ourselves what this run was for\n",
    "    mlflow.set_tag(\"playground\", \"GNN\")\n",
    "\n",
    "    # # Infer the model signature\n",
    "    # signature = infer_signature(X_train, lr.predict(X_train))\n",
    "\n",
    "    # # Log the model\n",
    "    # model_info = mlflow.sklearn.log_model(\n",
    "    #     sk_model=lr,\n",
    "    #     artifact_path=\"iris_model\",\n",
    "    #     signature=signature,\n",
    "    #     input_example=X_train,\n",
    "    #     registered_model_name=\"tracking-quickstart\",\n",
    "    # )\n"
   ]
  },
  {
   "cell_type": "code",
   "execution_count": 24,
   "metadata": {},
   "outputs": [
    {
     "data": {
      "text/plain": [
       "(265, 1)"
      ]
     },
     "execution_count": 24,
     "metadata": {},
     "output_type": "execute_result"
    }
   ],
   "source": [
    "def eval_pearson_r(model, device, loader):\n",
    "    model.eval()\n",
    "    y_true, y_pred = [], []\n",
    "\n",
    "    for step, batch in enumerate(loader):\n",
    "        batch = batch.to(device)\n",
    "        with torch.no_grad():\n",
    "            h = global_mean_pool(model(batch), batch.batch)\n",
    "            pred = output_layer(h)\n",
    "    \n",
    "        true = batch.y.view(pred.shape).float()\n",
    "        y_true.append(true)\n",
    "        y_pred.append(pred)\n",
    "\n",
    "\n",
    "    y_true = torch.cat(y_true, dim=0).cpu().numpy()\n",
    "    y_pred = (torch.cat(y_pred, dim=0)*mad + meann).cpu().numpy()\n",
    "\n",
    "    # return np.corrcoef(y_true, y_pred)\n",
    "    return y_true, y_pred\n",
    "y_true, y_pred = eval_pearson_r(model, device, test_loader)\n",
    "y_true.shape"
   ]
  },
  {
   "cell_type": "code",
   "execution_count": 31,
   "metadata": {},
   "outputs": [
    {
     "data": {
      "text/plain": [
       "0.48514639326604875"
      ]
     },
     "execution_count": 31,
     "metadata": {},
     "output_type": "execute_result"
    }
   ],
   "source": [
    "np.corrcoef(y_true.T, y_pred.T)[1,0]"
   ]
  },
  {
   "cell_type": "markdown",
   "metadata": {},
   "source": [
    "# etc"
   ]
  },
  {
   "cell_type": "code",
   "execution_count": 11,
   "metadata": {},
   "outputs": [
    {
     "name": "stdout",
     "output_type": "stream",
     "text": [
      "Epoch: 1\n",
      "Loss: 0.7121608604750284\n"
     ]
    },
    {
     "ename": "ValueError",
     "evalue": "continuous format is not supported",
     "output_type": "error",
     "traceback": [
      "\u001b[0;31m---------------------------------------------------------------------------\u001b[0m",
      "\u001b[0;31mValueError\u001b[0m                                Traceback (most recent call last)",
      "\u001b[0;32m/tmp/ipykernel_6273/1763232402.py\u001b[0m in \u001b[0;36m<module>\u001b[0;34m\u001b[0m\n\u001b[1;32m     10\u001b[0m     \u001b[0mtrain_roc\u001b[0m \u001b[0;34m=\u001b[0m \u001b[0mtrain_loss\u001b[0m \u001b[0;34m=\u001b[0m \u001b[0;36m0\u001b[0m\u001b[0;34m\u001b[0m\u001b[0;34m\u001b[0m\u001b[0m\n\u001b[1;32m     11\u001b[0m \u001b[0;34m\u001b[0m\u001b[0m\n\u001b[0;32m---> 12\u001b[0;31m     \u001b[0mval_roc\u001b[0m\u001b[0;34m,\u001b[0m \u001b[0mval_loss\u001b[0m\u001b[0;34m,\u001b[0m \u001b[0m_\u001b[0m \u001b[0;34m=\u001b[0m \u001b[0meval_func\u001b[0m\u001b[0;34m(\u001b[0m\u001b[0mmodel\u001b[0m\u001b[0;34m,\u001b[0m \u001b[0mdevice\u001b[0m\u001b[0;34m,\u001b[0m \u001b[0mval_loader\u001b[0m\u001b[0;34m)\u001b[0m\u001b[0;34m\u001b[0m\u001b[0;34m\u001b[0m\u001b[0m\n\u001b[0m\u001b[1;32m     13\u001b[0m     \u001b[0mtest_roc\u001b[0m\u001b[0;34m,\u001b[0m \u001b[0mtest_loss\u001b[0m\u001b[0;34m,\u001b[0m \u001b[0mroc_list\u001b[0m \u001b[0;34m=\u001b[0m \u001b[0meval_func\u001b[0m\u001b[0;34m(\u001b[0m\u001b[0mmodel\u001b[0m\u001b[0;34m,\u001b[0m \u001b[0mdevice\u001b[0m\u001b[0;34m,\u001b[0m \u001b[0mtest_loader\u001b[0m\u001b[0;34m)\u001b[0m\u001b[0;34m\u001b[0m\u001b[0;34m\u001b[0m\u001b[0m\n\u001b[1;32m     14\u001b[0m \u001b[0;34m\u001b[0m\u001b[0m\n",
      "\u001b[0;32m/tmp/ipykernel_6273/3095207861.py\u001b[0m in \u001b[0;36meval_general\u001b[0;34m(model, device, loader)\u001b[0m\n\u001b[1;32m     77\u001b[0m         \u001b[0;31m#     # ignore nan values\u001b[0m\u001b[0;34m\u001b[0m\u001b[0;34m\u001b[0m\u001b[0;34m\u001b[0m\u001b[0m\n\u001b[1;32m     78\u001b[0m         \u001b[0;31m#     is_valid = is_valid = y_true[:, i] ** 2 > 0\u001b[0m\u001b[0;34m\u001b[0m\u001b[0;34m\u001b[0m\u001b[0;34m\u001b[0m\u001b[0m\n\u001b[0;32m---> 79\u001b[0;31m         \u001b[0map\u001b[0m \u001b[0;34m=\u001b[0m \u001b[0maverage_precision_score\u001b[0m\u001b[0;34m(\u001b[0m\u001b[0my_true\u001b[0m\u001b[0;34m[\u001b[0m\u001b[0;34m:\u001b[0m\u001b[0;34m,\u001b[0m \u001b[0mi\u001b[0m\u001b[0;34m]\u001b[0m\u001b[0;34m,\u001b[0m \u001b[0my_scores\u001b[0m\u001b[0;34m[\u001b[0m\u001b[0;34m:\u001b[0m\u001b[0;34m,\u001b[0m \u001b[0mi\u001b[0m\u001b[0;34m]\u001b[0m\u001b[0;34m)\u001b[0m\u001b[0;34m\u001b[0m\u001b[0;34m\u001b[0m\u001b[0m\n\u001b[0m\u001b[1;32m     80\u001b[0m \u001b[0;34m\u001b[0m\u001b[0m\n\u001b[1;32m     81\u001b[0m         \u001b[0map_list\u001b[0m\u001b[0;34m.\u001b[0m\u001b[0mappend\u001b[0m\u001b[0;34m(\u001b[0m\u001b[0map\u001b[0m\u001b[0;34m)\u001b[0m\u001b[0;34m\u001b[0m\u001b[0;34m\u001b[0m\u001b[0m\n",
      "\u001b[0;32m~/miniconda3/envs/NSL_MRL/lib/python3.7/site-packages/sklearn/metrics/_ranking.py\u001b[0m in \u001b[0;36maverage_precision_score\u001b[0;34m(y_true, y_score, average, pos_label, sample_weight)\u001b[0m\n\u001b[1;32m    231\u001b[0m     )\n\u001b[1;32m    232\u001b[0m     return _average_binary_score(\n\u001b[0;32m--> 233\u001b[0;31m         \u001b[0maverage_precision\u001b[0m\u001b[0;34m,\u001b[0m \u001b[0my_true\u001b[0m\u001b[0;34m,\u001b[0m \u001b[0my_score\u001b[0m\u001b[0;34m,\u001b[0m \u001b[0maverage\u001b[0m\u001b[0;34m,\u001b[0m \u001b[0msample_weight\u001b[0m\u001b[0;34m=\u001b[0m\u001b[0msample_weight\u001b[0m\u001b[0;34m\u001b[0m\u001b[0;34m\u001b[0m\u001b[0m\n\u001b[0m\u001b[1;32m    234\u001b[0m     )\n\u001b[1;32m    235\u001b[0m \u001b[0;34m\u001b[0m\u001b[0m\n",
      "\u001b[0;32m~/miniconda3/envs/NSL_MRL/lib/python3.7/site-packages/sklearn/metrics/_base.py\u001b[0m in \u001b[0;36m_average_binary_score\u001b[0;34m(binary_metric, y_true, y_score, average, sample_weight)\u001b[0m\n\u001b[1;32m     70\u001b[0m     \u001b[0my_type\u001b[0m \u001b[0;34m=\u001b[0m \u001b[0mtype_of_target\u001b[0m\u001b[0;34m(\u001b[0m\u001b[0my_true\u001b[0m\u001b[0;34m)\u001b[0m\u001b[0;34m\u001b[0m\u001b[0;34m\u001b[0m\u001b[0m\n\u001b[1;32m     71\u001b[0m     \u001b[0;32mif\u001b[0m \u001b[0my_type\u001b[0m \u001b[0;32mnot\u001b[0m \u001b[0;32min\u001b[0m \u001b[0;34m(\u001b[0m\u001b[0;34m\"binary\"\u001b[0m\u001b[0;34m,\u001b[0m \u001b[0;34m\"multilabel-indicator\"\u001b[0m\u001b[0;34m)\u001b[0m\u001b[0;34m:\u001b[0m\u001b[0;34m\u001b[0m\u001b[0;34m\u001b[0m\u001b[0m\n\u001b[0;32m---> 72\u001b[0;31m         \u001b[0;32mraise\u001b[0m \u001b[0mValueError\u001b[0m\u001b[0;34m(\u001b[0m\u001b[0;34m\"{0} format is not supported\"\u001b[0m\u001b[0;34m.\u001b[0m\u001b[0mformat\u001b[0m\u001b[0;34m(\u001b[0m\u001b[0my_type\u001b[0m\u001b[0;34m)\u001b[0m\u001b[0;34m)\u001b[0m\u001b[0;34m\u001b[0m\u001b[0;34m\u001b[0m\u001b[0m\n\u001b[0m\u001b[1;32m     73\u001b[0m \u001b[0;34m\u001b[0m\u001b[0m\n\u001b[1;32m     74\u001b[0m     \u001b[0;32mif\u001b[0m \u001b[0my_type\u001b[0m \u001b[0;34m==\u001b[0m \u001b[0;34m\"binary\"\u001b[0m\u001b[0;34m:\u001b[0m\u001b[0;34m\u001b[0m\u001b[0;34m\u001b[0m\u001b[0m\n",
      "\u001b[0;31mValueError\u001b[0m: continuous format is not supported"
     ]
    }
   ],
   "source": [
    "epochs = 100\n",
    "\n",
    "train_func = train_general\n",
    "eval_func = eval_general\n",
    "\n",
    "for epoch in range(1, epochs + 1):\n",
    "    loss_acc = train_func(model, device, train_loader, optimizer)\n",
    "    print('Epoch: {}\\nLoss: {}'.format(epoch, loss_acc))\n",
    "\n",
    "    train_roc = train_loss = 0\n",
    "    \n",
    "    val_roc, val_loss, _ = eval_func(model, device, val_loader)\n",
    "    test_roc, test_loss, roc_list = eval_func(model, device, test_loader)\n",
    "\n",
    "    train_roc_list.append(train_roc)\n",
    "    val_roc_list.append(val_roc)\n",
    "    test_roc_list.append(test_roc)\n",
    "    train_loss_list.append(train_loss)\n",
    "    val_loss_list.append(val_loss)\n",
    "    test_loss_list.append(test_loss)\n",
    "    roc_lists.append(roc_list)\n",
    "    print('val: {:.6f}\\ttest: {:.6f}'.format(val_roc, test_roc))\n",
    "    print()\n",
    "\n",
    "    if val_roc > best_val_roc:\n",
    "        best_val_roc = val_roc\n",
    "        best_val_idx = epoch - 1"
   ]
  },
  {
   "cell_type": "code",
   "execution_count": 10,
   "metadata": {},
   "outputs": [
    {
     "name": "stdout",
     "output_type": "stream",
     "text": [
      "best val: 0.663913\ttest: 0.664687\n"
     ]
    }
   ],
   "source": [
    "print('best val: {:.6f}\\ttest: {:.6f}'.format(val_roc_list[best_val_idx], test_roc_list[best_val_idx]))"
   ]
  },
  {
   "cell_type": "code",
   "execution_count": 8,
   "metadata": {},
   "outputs": [
    {
     "name": "stdout",
     "output_type": "stream",
     "text": [
      "best val: 0.687850\ttest: 0.635925\n"
     ]
    }
   ],
   "source": [
    "print('best val: {:.6f}\\ttest: {:.6f}'.format(val_roc_list[best_val_idx], test_roc_list[best_val_idx]))"
   ]
  },
  {
   "cell_type": "markdown",
   "metadata": {},
   "source": [
    "### 6. Gather the results from 5 independent runs. \n",
    "Here we omit the results from the other runs and provid the integrated results from three classfication tasks (HIV, MUV and PCBA). "
   ]
  },
  {
   "cell_type": "code",
   "execution_count": 19,
   "metadata": {},
   "outputs": [],
   "source": [
    "import matplotlib.pyplot as plt\n",
    "import numpy as np\n",
    "from scipy.optimize import curve_fit\n",
    "\n",
    "hiv = np.array([\n",
    "    [0.5896, 0.6812, 0.7460, 0.7774, 0.7768, 0.7998, 0.8310, 0.8411, 0.8531],\n",
    "    [0.6647, 0.7389, 0.7801, 0.7874, 0.8040, 0.8039, 0.8279, 0.8237, 0.8710],\n",
    "    [0.6258, 0.7037, 0.7090, 0.8054, 0.7857, 0.7734, 0.8187, 0.8396, 0.8412],\n",
    "    [0.6458, 0.6869, 0.7464, 0.7768, 0.7636, 0.7932, 0.8067, 0.8415, 0.8501],\n",
    "    [0.6432, 0.6805, 0.7669, 0.7776, 0.8186, 0.7801, 0.7892, 0.8428, 0.8326]\n",
    "])\n",
    "muv = np.array([\n",
    "    [0.4381, 0.5454, 0.5818, 0.6727, 0.7621, 0.6712, 0.7054, 0.7617, 0.8068],\n",
    "    [0.5378, 0.6388, 0.6178, 0.7187, 0.7038, 0.7215, 0.7386, 0.7834, 0.8024],\n",
    "    [0.4707, 0.5556, 0.5380, 0.6610, 0.6668, 0.7252, 0.7222, 0.7891, 0.8183],\n",
    "    [0.4498, 0.5724, 0.5653, 0.6855, 0.6907, 0.6618, 0.7230, 0.7255, 0.7780],\n",
    "    [0.4755, 0.6006, 0.6749, 0.7079, 0.7379, 0.7317, 0.7554, 0.8083, 0.7814]\n",
    "])\n",
    "pcba = np.array([\n",
    "    [0.0524, 0.0958, 0.1296, 0.1750, 0.1961, 0.2161, 0.2468, 0.2673, 0.2829],\n",
    "    [0.0502, 0.0942, 0.1339, 0.1823, 0.2087, 0.2303, 0.2534, 0.2733, 0.2809],\n",
    "    [0.0526, 0.0961, 0.1339, 0.1691, 0.1912, 0.2161, 0.2443, 0.2625, 0.2735],\n",
    "    [0.0512, 0.0952, 0.1302, 0.1836, 0.2048, 0.2203, 0.2551, 0.2662, 0.2791],\n",
    "    [0.0542, 0.0995, 0.1327, 0.1775, 0.2000, 0.2262, 0.2448, 0.2713, 0.2794]\n",
    "])\n",
    "data_list = [hiv, muv, pcba]"
   ]
  },
  {
   "cell_type": "markdown",
   "metadata": {},
   "source": [
    "### 7. Fit the curve and plot the neural scaling law."
   ]
  },
  {
   "cell_type": "code",
   "execution_count": 24,
   "metadata": {},
   "outputs": [
    {
     "data": {
      "image/png": "[encoded data removed]",
      "text/plain": [
       "<Figure size 1500x700 with 6 Axes>"
      ]
     },
     "metadata": {},
     "output_type": "display_data"
    }
   ],
   "source": [
    "def power_law(x, a, b):\n",
    "    return a * np.power(x, b)\n",
    "\n",
    "fig, axs = plt.subplots(2, 3, figsize=(15, 7))\n",
    "x = [0.01,0.05,0.1,0.2,0.3,0.4,0.6,0.8,1]\n",
    "\n",
    "for i,data in enumerate(data_list):\n",
    "    mean = np.mean(data, axis=0)\n",
    "    std = np.std(data, axis=0)\n",
    "    params, _ = curve_fit(power_law, x, mean)\n",
    "\n",
    "    mean_data = np.mean(data, axis=0)\n",
    "    std_data = np.std(data, axis=0) / 2\n",
    "    max_data = mean_data + std_data\n",
    "    min_data = mean_data - std_data\n",
    "\n",
    "    axs[0][i].fill_between(x, max_data, min_data, alpha=0.3)\n",
    "    axs[0][i].scatter(x, mean_data, marker='o',color='royalblue',s=30)\n",
    "    axs[0][i].plot(x, power_law(x, params[0], params[1]), linewidth=1.5, c='blue')\n",
    "    \n",
    "    axs[1][i].fill_between(x, max_data, min_data, alpha=0.3)\n",
    "    axs[1][i].scatter(x, mean_data, marker='o',color='royalblue',s=30)\n",
    "    axs[1][i].plot(x, power_law(x, params[0], params[1]), linewidth=1.5, c='blue')\n",
    "    \n",
    "    axs[0][i].set_xlabel('Select Ratio')\n",
    "    axs[0][i].set_ylabel('ROC-AUC')\n",
    "    axs[0][i].set_xticks(x)\n",
    "    axs[0][i].set_xticklabels(['1%',None,'10%',None,'30%',None,'60%',None,'100%'])\n",
    "    \n",
    "    axs[1][i].set_xlabel('Select Ratio')\n",
    "    axs[1][i].set_ylabel('ROC-AUC')\n",
    "    axs[1][i].set_xticks(np.log(x))\n",
    "    axs[1][i].set_xticklabels(['1%',None,'10%',None,'30%',None,'60%',None,'100%'])\n",
    "    axs[1][i].set_xscale('log')\n",
    "    axs[1][i].set_yscale('log')\n",
    "\n",
    "\n",
    "axs[0][2].set_ylabel('AP')\n",
    "axs[1][2].set_ylabel('AP')\n",
    "axs[0][0].set_title('(a) HIV')\n",
    "axs[0][1].set_title('(b) MUV')\n",
    "axs[0][2].set_title('(c) PCBA')\n",
    "\n",
    "axs[1][0].set_title('(d) HIV (log-log)')\n",
    "axs[1][1].set_title('(e) MUV (log-log)')\n",
    "axs[1][2].set_title('(f) PCBA (log-log)')\n",
    "\n",
    "fig.tight_layout()\n",
    "plt.show()\n",
    "    \n",
    "    "
   ]
  }
 ],
 "metadata": {
  "kernelspec": {
   "display_name": "Python 3 (ipykernel)",
   "language": "python",
   "name": "python3"
  },
  "language_info": {
   "codemirror_mode": {
    "name": "ipython",
    "version": 3
   },
   "file_extension": ".py",
   "mimetype": "text/x-python",
   "name": "python",
   "nbconvert_exporter": "python",
   "pygments_lexer": "ipython3",
   "version": "3.11.7"
  }
 },
 "nbformat": 4,
 "nbformat_minor": 2
}
